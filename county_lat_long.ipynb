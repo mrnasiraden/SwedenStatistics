{
 "cells": [
  {
   "cell_type": "code",
   "execution_count": 3,
   "id": "a24f694b",
   "metadata": {},
   "outputs": [
    {
     "name": "stdout",
     "output_type": "stream",
     "text": [
      "Requirement already satisfied: geopy in c:\\users\\makbar\\anaconda3\\lib\\site-packages (2.4.1)\n",
      "Requirement already satisfied: geographiclib<3,>=1.52 in c:\\users\\makbar\\anaconda3\\lib\\site-packages (from geopy) (2.0)\n"
     ]
    }
   ],
   "source": [
    "!pip install geopy"
   ]
  },
  {
   "cell_type": "code",
   "execution_count": 4,
   "id": "8e91bf2b",
   "metadata": {},
   "outputs": [
    {
     "name": "stdout",
     "output_type": "stream",
     "text": [
      "                    County   Latitude  Longitude\n",
      "0         Stockholm county  59.395405  18.665270\n",
      "1           Uppsala county  60.145359  17.624349\n",
      "2      Södermanland county  58.964921  16.729401\n",
      "3      Östergötland county  58.365025  16.044714\n",
      "4         Jönköping county  57.535426  14.641182\n",
      "5         Kronoberg county  56.800678  14.411161\n",
      "6            Kalmar county  57.027842  16.575102\n",
      "7           Gotland county  57.648002  18.595295\n",
      "8          Blekinge county  56.124012  15.402209\n",
      "9             Skåne county  55.847942  13.633712\n",
      "10          Halland county  56.960810  12.854707\n",
      "11  Västra Götaland county  58.215850  12.651821\n",
      "12         Värmland county  59.890762  13.294762\n",
      "13           Örebro county  59.378575  14.988277\n",
      "14      Västmanland county  59.696564  16.184654\n",
      "15          Dalarna county  61.060378  14.215087\n",
      "16        Gävleborg county  61.260342  16.694698\n",
      "17   Västernorrland county  63.058969  18.101369\n",
      "18         Jämtland county  63.345222  14.124986\n",
      "19     Västerbotten county  64.728471  18.553323\n",
      "20       Norrbotten county  66.980813  19.999270\n"
     ]
    }
   ],
   "source": [
    "import pandas as pd\n",
    "from geopy.geocoders import Nominatim\n",
    "\n",
    "# List of counties\n",
    "counties = [\n",
    "    'Stockholm county', 'Uppsala county', 'Södermanland county',\n",
    "    'Östergötland county', 'Jönköping county', 'Kronoberg county',\n",
    "    'Kalmar county', 'Gotland county', 'Blekinge county',\n",
    "    'Skåne county', 'Halland county', 'Västra Götaland county',\n",
    "    'Värmland county', 'Örebro county', 'Västmanland county',\n",
    "    'Dalarna county', 'Gävleborg county', 'Västernorrland county',\n",
    "    'Jämtland county', 'Västerbotten county', 'Norrbotten county'\n",
    "]\n",
    "\n",
    "# Create a DataFrame\n",
    "county_df = pd.DataFrame(counties, columns=['County'])\n",
    "\n",
    "# Initialize geocoder\n",
    "geolocator = Nominatim(user_agent=\"county_geocoder\")\n",
    "\n",
    "# Function to get latitude and longitude\n",
    "def get_lat_long(county):\n",
    "    location = geolocator.geocode(f\"{county}, Sweden\")\n",
    "    if location:\n",
    "        return location.latitude, location.longitude\n",
    "    else:\n",
    "        return None, None\n",
    "\n",
    "# Apply the function to get latitude and longitude\n",
    "county_df['Latitude'], county_df['Longitude'] = zip(*county_df['County'].apply(get_lat_long))\n",
    "\n",
    "# Save the DataFrame to Excel\n",
    "## county_df.to_excel('counties_coordinates.xlsx', index=False)\n",
    "\n",
    "print(county_df)"
   ]
  },
  {
   "cell_type": "code",
   "execution_count": null,
   "id": "3f42f30e",
   "metadata": {},
   "outputs": [],
   "source": []
  }
 ],
 "metadata": {
  "kernelspec": {
   "display_name": "Python 3 (ipykernel)",
   "language": "python",
   "name": "python3"
  },
  "language_info": {
   "codemirror_mode": {
    "name": "ipython",
    "version": 3
   },
   "file_extension": ".py",
   "mimetype": "text/x-python",
   "name": "python",
   "nbconvert_exporter": "python",
   "pygments_lexer": "ipython3",
   "version": "3.9.13"
  }
 },
 "nbformat": 4,
 "nbformat_minor": 5
}
